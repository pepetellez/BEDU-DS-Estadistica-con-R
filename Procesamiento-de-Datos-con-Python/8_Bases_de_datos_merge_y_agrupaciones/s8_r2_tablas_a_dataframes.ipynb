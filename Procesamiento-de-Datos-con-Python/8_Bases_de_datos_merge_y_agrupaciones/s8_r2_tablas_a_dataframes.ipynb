{
  "nbformat": 4,
  "nbformat_minor": 0,
  "metadata": {
    "kernelspec": {
      "display_name": "Python (data_science)",
      "language": "python",
      "name": "data_science"
    },
    "language_info": {
      "codemirror_mode": {
        "name": "ipython",
        "version": 3
      },
      "file_extension": ".py",
      "mimetype": "text/x-python",
      "name": "python",
      "nbconvert_exporter": "python",
      "pygments_lexer": "ipython3",
      "version": "3.8.1"
    },
    "colab": {
      "name": "s8_r2_tablas_a_dataframes.ipynb",
      "provenance": [],
      "include_colab_link": true
    }
  },
  "cells": [
    {
      "cell_type": "markdown",
      "metadata": {
        "id": "view-in-github",
        "colab_type": "text"
      },
      "source": [
        "<a href=\"https://colab.research.google.com/github/pepetellez/BEDU-DS-Estadistica-con-R/blob/master/Procesamiento-de-Datos-con-Python/8_Bases_de_datos_merge_y_agrupaciones/s8_r2_tablas_a_dataframes.ipynb\" target=\"_parent\"><img src=\"https://colab.research.google.com/assets/colab-badge.svg\" alt=\"Open In Colab\"/></a>"
      ]
    },
    {
      "cell_type": "markdown",
      "metadata": {
        "id": "pDA5kf8o7-_s"
      },
      "source": [
        "## Reto 2: Convertir tablas en MySQL a `DataFrames` de `pandas`\n",
        "\n",
        "### 1. Objetivos:\n",
        "    - Solicitar todos los datos de las tablas que están almacenadas en nuestra base de datos, convertirlos a `DataFrames` y guardarlos.\n",
        "    \n",
        "---\n",
        "    \n",
        "### 2. Desarrollo:"
      ]
    },
    {
      "cell_type": "markdown",
      "metadata": {
        "id": "6oGU3mvV7-_x"
      },
      "source": [
        "#### a) Tablas a `DataFrames`\n",
        "\n",
        "Ya que tenemos nuestra conexión funcionando adecuadamente, vamos a utilizarla para realizar consultas a las base de datos y construir una base de datos local. Tu Reto consiste en los siguientes pasos:\n",
        "\n",
        "1. Vuelve a establecer la conexión a la base de datos\n",
        "2. Usando el comando `SELECT * FROM nombre_de_tabla`, realiza consultas a cada una de las 5 tablas que existen en la base de datos.\n",
        "3. Crea un `DataFrame` por cada tabla que obtuviste. Para asignarle los nombres de las columnas correctamente, revisa el archivo [Readme.md](../../Datasets/MovieLens/Readme.md) donde está contenida toda esa información.\n",
        "4. Asegúrate de que el índice sea adecuado en cada `DataFrame`. En los casos en los que haya datos redundantes, convierte una de las columnas en índice.\n",
        "5. Si lo deseas ordena las columnas de la manera en la que mejor te parezca.\n",
        "6. Guarda tus `DataFrames` en formato .csv para utilizarlos en los siguientes Retos.\n",
        "\n",
        "> **NOTA IMPORTANTE**: La tabla movies es un poco complicada porque contiene muchos signos distintos. Tanto en la columna de nombre de película como la de género, encontramos signos como `,`, `:`, `.`, `|`. Esto hace un poco complicado el almacenamiento y lectura de este archivo. Si elijes guardar este archivo como un .csv separado por comas (`,`), a la hora de leerlo de regreso, `pandas` puede confundirse y pensar que el título de una película que contiene comas constituye dos columnas. Por esta razón, te recomiendo que la tabla `movies` la guardes agregando un separador poco convencional como `sep='$'`. De esta manera será muchísimo más fácil leer tu archivo de regreso usando ese separador."
      ]
    },
    {
      "cell_type": "code",
      "metadata": {
        "colab": {
          "base_uri": "https://localhost:8080/"
        },
        "id": "2isIkhaqCwnk",
        "outputId": "843ab261-4f73-4895-e6db-be8701b2eaf0"
      },
      "source": [
        "pip install mysql-connector-python"
      ],
      "execution_count": 3,
      "outputs": [
        {
          "output_type": "stream",
          "text": [
            "Collecting mysql-connector-python\n",
            "\u001b[?25l  Downloading https://files.pythonhosted.org/packages/de/f7/b783b60a3bd8aea348990c60fb0b3ed2f843c6f40ad29e37a89a5d50d7a3/mysql_connector_python-8.0.23-cp37-cp37m-manylinux1_x86_64.whl (18.0MB)\n",
            "\u001b[K     |████████████████████████████████| 18.1MB 238kB/s \n",
            "\u001b[?25hRequirement already satisfied: protobuf>=3.0.0 in /usr/local/lib/python3.7/dist-packages (from mysql-connector-python) (3.12.4)\n",
            "Requirement already satisfied: six>=1.9 in /usr/local/lib/python3.7/dist-packages (from protobuf>=3.0.0->mysql-connector-python) (1.15.0)\n",
            "Requirement already satisfied: setuptools in /usr/local/lib/python3.7/dist-packages (from protobuf>=3.0.0->mysql-connector-python) (54.0.0)\n",
            "Installing collected packages: mysql-connector-python\n",
            "Successfully installed mysql-connector-python-8.0.23\n"
          ],
          "name": "stdout"
        }
      ]
    },
    {
      "cell_type": "code",
      "metadata": {
        "colab": {
          "base_uri": "https://localhost:8080/"
        },
        "id": "xdky3jFyDIqk",
        "outputId": "b6e24183-0df9-484c-a2e0-2f9630d5890e"
      },
      "source": [
        "from google.colab import drive\n",
        "drive.mount('/content/drive')"
      ],
      "execution_count": 6,
      "outputs": [
        {
          "output_type": "stream",
          "text": [
            "Go to this URL in a browser: https://accounts.google.com/o/oauth2/auth?client_id=947318989803-6bn6qk8qdgf4n4g3pfee6491hc0brc4i.apps.googleusercontent.com&redirect_uri=urn%3aietf%3awg%3aoauth%3a2.0%3aoob&scope=email%20https%3a%2f%2fwww.googleapis.com%2fauth%2fdocs.test%20https%3a%2f%2fwww.googleapis.com%2fauth%2fdrive%20https%3a%2f%2fwww.googleapis.com%2fauth%2fdrive.photos.readonly%20https%3a%2f%2fwww.googleapis.com%2fauth%2fpeopleapi.readonly%20https%3a%2f%2fwww.googleapis.com%2fauth%2fdrive.activity.readonly%20https%3a%2f%2fwww.googleapis.com%2fauth%2fphotos.native&response_type=code\n",
            "\n",
            "Enter your authorization code:\n",
            "4/1AY0e-g4uKZu1O8LGOQIsIv_EXX9YL2u3MmpmnN17Q8sMqmZR3IT_gh6neS4\n",
            "Mounted at /content/drive\n"
          ],
          "name": "stdout"
        }
      ]
    },
    {
      "cell_type": "code",
      "metadata": {
        "id": "Y1E9a6KA7-_y"
      },
      "source": [
        "import mysql.connector\n",
        "import pandas as pd\n",
        "\n",
        "cnx = mysql.connector.connect(\n",
        "    host=\"ec2-34-221-84-140.us-west-2.compute.amazonaws.com\",\n",
        "    port=3306,\n",
        "    user=\"data\",\n",
        "    password=\"khQ9--mp6LWq97iA\",\n",
        "    database=\"movielens\",\n",
        ")\n",
        "\n",
        "cursor = cnx.cursor()\n",
        "cursor.execute(\"SHOW TABLES\")\n",
        "cursor.fetchall()\n",
        " \n",
        "# movies\n",
        "cursor.execute(\"SELECT * FROM movies\")\n",
        "result = cursor.fetchall()\n",
        "movies = pd.DataFrame(result, columns=['movie_id', 'title', 'genres'])\n",
        "movies = movies.set_index('movie_id', drop=True)\n",
        " \n",
        "# users\n",
        "cursor.execute(\"SELECT * FROM users\")\n",
        "result = cursor.fetchall()\n",
        "users = pd.DataFrame(result, columns=['user_id', 'gender', 'age', 'occupation', 'cp'])\n",
        "users = users.set_index('user_id', drop=True)\n",
        " \n",
        "# ratings\n",
        "cursor.execute(\"SELECT * FROM ratings\")\n",
        "result = cursor.fetchall()\n",
        "ratings = pd.DataFrame(result, columns=['user_id', 'movie_id', 'rating', 'timestamp'])\n",
        " \n",
        "# age ranges\n",
        "cursor.execute(\"SELECT * FROM age_ranges\")\n",
        "result = cursor.fetchall()\n",
        "age_ranges = pd.DataFrame(result, columns=['age_id', 'range'])\n",
        "age_ranges = age_ranges.set_index('age_id', drop=True)\n",
        " \n",
        "# occupations\n",
        "cursor.execute(\"SELECT * FROM occupations\")\n",
        "result = cursor.fetchall()\n",
        "occupations = pd.DataFrame(result, columns=['occupation_id', 'description'])\n",
        "occupations = occupations.set_index('occupation_id', drop=True)\n",
        " \n",
        "cursor.close()\n",
        " \n",
        "movies.to_csv(r'drive/MyDrive/movies.csv')\n",
        "users.to_csv(r'drive/MyDrive/users.csv')\n",
        "ratings.to_csv(r'drive/MyDrive/ratings.csv')\n",
        "age_ranges.to_csv(r'drive/MyDrive/age_ranges.csv')\n",
        "occupations.to_csv(r'drive/MyDrive/occupation.csv')"
      ],
      "execution_count": 7,
      "outputs": []
    },
    {
      "cell_type": "markdown",
      "metadata": {
        "id": "rgQ-zIS77-_y"
      },
      "source": [
        "Compara con tus compañeros y revisa con la experta para que todos estén seguros de que tienen sus `DataFrames` estructurados de la manera correcta y que sus archivos .csv fueron creados exitosamente. Vamos a utilizar estos archivos en los Retos siguientes, así que es muy importante que tus datos estén estructurados adecuadamente."
      ]
    },
    {
      "cell_type": "markdown",
      "metadata": {
        "id": "iHuuYIkh7-_y"
      },
      "source": [
        "<details><summary>Solución</summary>\n",
        "\n",
        "```python\n",
        "import mysql.connector\n",
        "cnx = mysql.connector.connect(\n",
        "    host=\"host_que_te_indique_la_experta\",\n",
        "    port=3306,\n",
        "    user=\"usuario_que_te_indique_la_experta\",\n",
        "    password='contraseña_que_te_indique_la_experta',\n",
        "    database='movielens'\n",
        ")\n",
        "cursor = cnx.cursor()\n",
        "cursor.execute(\"SHOW TABLES\")\n",
        "cursor.fetchall()\n",
        "    \n",
        "# movies\n",
        "cursor.execute(\"SELECT * FROM movies\")\n",
        "result = cursor.fetchall()\n",
        "movies = pd.DataFrame(result, columns=['movie_id', 'title', 'genres'])\n",
        "movies = movies.set_index('movie_id', drop=True)\n",
        "    \n",
        "# users\n",
        "cursor.execute(\"SELECT * FROM users\")\n",
        "result = cursor.fetchall()\n",
        "users = pd.DataFrame(result, columns=['user_id', 'gender', 'age', 'occupation', 'cp'])\n",
        "users = users.set_index('user_id', drop=True)\n",
        "\n",
        "# ratings\n",
        "cursor.execute(\"SELECT * FROM ratings\")\n",
        "result = cursor.fetchall()\n",
        "ratings = pd.DataFrame(result, columns=['user_id', 'movie_id', 'rating', 'timestamp'])\n",
        "\n",
        "# age ranges\n",
        "cursor.execute(\"SELECT * FROM age_ranges\")\n",
        "result = cursor.fetchall()\n",
        "age_ranges = pd.DataFrame(result, columns=['age_id', 'range'])\n",
        "age_ranges = age_ranges.set_index('age_id', drop=True)\n",
        "\n",
        "# occupations\n",
        "cursor.execute(\"SELECT * FROM occupations\")\n",
        "result = cursor.fetchall()\n",
        "occupations = pd.DataFrame(result, columns=['occupation_id', 'description'])\n",
        "occupations = occupations.set_index('occupation_id', drop=True)\n",
        "    \n",
        "cursor.close()\n",
        "    \n",
        "movies.to_csv('ruta')\n",
        "users.to_csv('ruta')\n",
        "ratings.to_csv('ruta')\n",
        "age_ranges.to_csv('ruta')\n",
        "occupations.to_csv('ruta')\n",
        "```\n",
        "    \n",
        "</details>"
      ]
    },
    {
      "cell_type": "code",
      "metadata": {
        "id": "H3tjzbb-7-_z"
      },
      "source": [
        ""
      ],
      "execution_count": 1,
      "outputs": []
    }
  ]
}